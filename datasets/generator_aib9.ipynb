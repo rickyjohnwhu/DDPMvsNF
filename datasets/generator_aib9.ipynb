{
 "cells": [
  {
   "cell_type": "code",
   "execution_count": 13,
   "id": "389c8500-dfce-4af9-a28c-fa8ae9045182",
   "metadata": {},
   "outputs": [],
   "source": [
    "# import packages, set figure dpi\n",
    "\n",
    "import numpy as np\n",
    "import pandas as pd\n",
    "from matplotlib import pyplot as plt\n",
    "import random\n",
    "\n",
    "plt.rcParams['figure.dpi'] = 200"
   ]
  },
  {
   "cell_type": "code",
   "execution_count": 14,
   "id": "4a24c0aa-9935-4819-99ce-86be786fd56f",
   "metadata": {},
   "outputs": [
    {
     "name": "stderr",
     "output_type": "stream",
     "text": [
      "/tmp/ipykernel_1052326/421868056.py:4: FutureWarning: The 'delim_whitespace' keyword in pd.read_csv is deprecated and will be removed in a future version. Use ``sep='\\s+'`` instead\n",
      "  phi_df = pd.read_csv(directory + 'COLVAR_phi', skiprows = 19, delim_whitespace = True, header = None)\n",
      "/tmp/ipykernel_1052326/421868056.py:5: FutureWarning: The 'delim_whitespace' keyword in pd.read_csv is deprecated and will be removed in a future version. Use ``sep='\\s+'`` instead\n",
      "  psi_df = pd.read_csv(directory + 'COLVAR_psi', skiprows = 19, delim_whitespace = True, header = None)\n"
     ]
    }
   ],
   "source": [
    "# locate and load phi and psi recordings from openmm file\n",
    "\n",
    "directory = './aib9_openmm/'\n",
    "phi_df = pd.read_csv(directory + 'COLVAR_phi', skiprows = 19, delim_whitespace = True, header = None)\n",
    "psi_df = pd.read_csv(directory + 'COLVAR_psi', skiprows = 19, delim_whitespace = True, header = None)"
   ]
  },
  {
   "cell_type": "code",
   "execution_count": 15,
   "id": "ad6b45f9-076d-4275-9c3c-e496e809a1c3",
   "metadata": {},
   "outputs": [],
   "source": [
    "# convert phi and psi recordings to residue-specific numpy arrays\n",
    "\n",
    "def phi_psi(residue, phi_df, psi_df):\n",
    "    phi_arr = phi_df[[residue]].to_numpy()\n",
    "    psi_arr = psi_df[[residue]].to_numpy()\n",
    "    output = np.array([phi_arr, psi_arr]).T\n",
    "    output = output.squeeze()\n",
    "    return output"
   ]
  },
  {
   "cell_type": "code",
   "execution_count": 16,
   "id": "1812c284-d739-4196-aed9-2592fefbefb5",
   "metadata": {},
   "outputs": [],
   "source": [
    "# shuffle and reduce data amount to create time-independent phi-psi training data\n",
    "\n",
    "data_limiter = 100000\n",
    "\n",
    "data = phi_psi(1, phi_df, psi_df)\n",
    "for i in np.arange(2, 10):\n",
    "    arr_add = phi_psi(i, phi_df, psi_df)\n",
    "    data = np.hstack((data, arr_add))\n",
    "num_rows = data.shape[0]\n",
    "row_indices = np.random.permutation(num_rows)\n",
    "shuffled_data = data[row_indices]\n",
    "final_data = shuffled_data[:data_limiter]"
   ]
  },
  {
   "cell_type": "code",
   "execution_count": 17,
   "id": "3ccdc8eb-3137-4b76-8a2c-203b304a093b",
   "metadata": {},
   "outputs": [],
   "source": [
    "# save training dataset to data_input file\n",
    "# if data_accessor ran successfully, the file needed for experiments already exists and this step is unnecessary\n",
    "\n",
    "save_destination = f\"data_input/aib9_total_0\"\n",
    "np.save(save_destination, final_data)"
   ]
  }
 ],
 "metadata": {
  "kernelspec": {
   "display_name": "Python 3 (ipykernel)",
   "language": "python",
   "name": "python3"
  },
  "language_info": {
   "codemirror_mode": {
    "name": "ipython",
    "version": 3
   },
   "file_extension": ".py",
   "mimetype": "text/x-python",
   "name": "python",
   "nbconvert_exporter": "python",
   "pygments_lexer": "ipython3",
   "version": "3.10.13"
  }
 },
 "nbformat": 4,
 "nbformat_minor": 5
}
